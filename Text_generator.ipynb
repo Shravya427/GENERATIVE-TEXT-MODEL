{
 "cells": [
  {
   "cell_type": "code",
   "execution_count": 3,
   "id": "b3076a22",
   "metadata": {},
   "outputs": [],
   "source": [
    "# 📦 Import required libraries\n",
    "from transformers import pipeline, set_seed\n",
    "import ipywidgets as widgets\n",
    "from IPython.display import display, Markdown"
   ]
  },
  {
   "cell_type": "code",
   "execution_count": 4,
   "id": "e64d5682",
   "metadata": {},
   "outputs": [],
   "source": [
    "# 🧠 Define the GPT-2 generation function\n",
    "def generate_gpt2_text(prompt, model='gpt2', max_len=200, num_outputs=2, temperature=0.9, seed=42):\n",
    "    set_seed(seed)\n",
    "    generator = pipeline(\"text-generation\", model=model)\n",
    "    outputs = generator(prompt, max_length=max_len, num_return_sequences=num_outputs, temperature=temperature)\n",
    "    \n",
    "    display(Markdown(f\"### 📝 Prompt:\\n`{prompt}`\"))\n",
    "    for idx, out in enumerate(outputs):\n",
    "        display(Markdown(f\"---\\n**Output {idx+1}:**\\n\\n{out['generated_text']}\"))"
   ]
  },
  {
   "cell_type": "code",
   "execution_count": 6,
   "id": "fb0b9aaa",
   "metadata": {},
   "outputs": [
    {
     "data": {
      "application/vnd.jupyter.widget-view+json": {
       "model_id": "84611a74a8894691b8cc8929fc5c258d",
       "version_major": 2,
       "version_minor": 0
      },
      "text/plain": [
       "Textarea(value='The future of renewable energy', description='Prompt:', layout=Layout(height='80px', width='10…"
      ]
     },
     "metadata": {},
     "output_type": "display_data"
    },
    {
     "data": {
      "application/vnd.jupyter.widget-view+json": {
       "model_id": "0fc369d216db4aa691c186b04a6372fe",
       "version_major": 2,
       "version_minor": 0
      },
      "text/plain": [
       "Dropdown(description='Model:', options=('gpt2', 'gpt2-medium', 'gpt2-large'), value='gpt2')"
      ]
     },
     "metadata": {},
     "output_type": "display_data"
    },
    {
     "data": {
      "application/vnd.jupyter.widget-view+json": {
       "model_id": "a67a316e844944afb458dac5a8cea6b5",
       "version_major": 2,
       "version_minor": 0
      },
      "text/plain": [
       "IntSlider(value=150, description='Max Length:', max=300, min=50, step=10)"
      ]
     },
     "metadata": {},
     "output_type": "display_data"
    },
    {
     "data": {
      "application/vnd.jupyter.widget-view+json": {
       "model_id": "ff479a8c6e0247d39a96432d5cb4a81c",
       "version_major": 2,
       "version_minor": 0
      },
      "text/plain": [
       "FloatSlider(value=0.9, description='Temperature:', max=1.5, min=0.1)"
      ]
     },
     "metadata": {},
     "output_type": "display_data"
    },
    {
     "data": {
      "application/vnd.jupyter.widget-view+json": {
       "model_id": "6f34448fb34246af8a652d45d895f39e",
       "version_major": 2,
       "version_minor": 0
      },
      "text/plain": [
       "IntSlider(value=2, description='Outputs:', max=5, min=1)"
      ]
     },
     "metadata": {},
     "output_type": "display_data"
    },
    {
     "data": {
      "application/vnd.jupyter.widget-view+json": {
       "model_id": "c1e7bced8c274c1597aca470fee5e0bd",
       "version_major": 2,
       "version_minor": 0
      },
      "text/plain": [
       "Button(button_style='success', description='🔮 Generate Text', style=ButtonStyle())"
      ]
     },
     "metadata": {},
     "output_type": "display_data"
    },
    {
     "data": {
      "text/markdown": [
       "### 📝 Prompt:\n",
       "`The future of renewable energy`"
      ],
      "text/plain": [
       "<IPython.core.display.Markdown object>"
      ]
     },
     "metadata": {},
     "output_type": "display_data"
    },
    {
     "data": {
      "text/markdown": [
       "---\n",
       "**Output 1:**\n",
       "\n",
       "The future of renewable energy is currently largely in the hands of private and public utilities, but this could evolve into a system of cost-shared power prices and prices of new solar power by the mid-century. All of these are all potential obstacles to the renewables revolution in their benefits, and not all of these possible sources of cost-free energy source the grid need.\n",
       "\n",
       "The Future of Renewable Energy\n",
       "\n",
       "The next solar revolution will require both large and small. The demand for big energy, in turn, will force large firms to adopt big renewables technologies in order to meet growing demand, as much of the world moves from coal to natural gas. Of course, these large companies may have to go farther to satisfy their huge profits that they are now subject to competition from small-scale, low-cost alternatives.\n",
       "\n",
       "The same is true of the cost-share market. When an entrepreneur sells his or her stake in big-scale, high-solar, new-build wind or solar power technologies, he or she must sell off at a discount to both small and large businesses to ensure they get their act together on the right price.\n",
       "\n",
       "This is particularly important for the largest (smaller enterprises) of the world, whose investment depends on huge margins and the ability to sell"
      ],
      "text/plain": [
       "<IPython.core.display.Markdown object>"
      ]
     },
     "metadata": {},
     "output_type": "display_data"
    },
    {
     "data": {
      "text/markdown": [
       "---\n",
       "**Output 2:**\n",
       "\n",
       "The future of renewable energy and a new world order, according to the International Energy Agency. It is an urgent step for China, because the global economy is already suffering a severe impact from rising global prices. China currently sells renewable energy globally by using a new type of battery developed in the US that is a much bigger technology. It's also being used for electricity generation by companies such as Siemens Siemens and Arup Landse along with many other companies. But despite this, climate change means that China's power needs don't have to change for energy to become sustainable.\n",
       "\n",
       "China's Energy Minister Wen Jiabao recently confirmed that China had signed the 'Paris Agreement', which says the world energy transition will be limited to 2030. This means that by 2050 we'll no longer need to be on the side of renewables in our fight against climate change.\n",
       "\n",
       "China is hoping that the decision to abandon coal energy production will provide the momentum to start the renewable economy, such as new wind farms or solar farms.\n",
       "\n",
       "And yet, despite being one of the largest emitters of carbon dioxide, China has been unable to bring its current energy costs under control. Even without the need for fossil fuels, and with the lack of reliable information about their carbon footprint, the country today has a long way"
      ],
      "text/plain": [
       "<IPython.core.display.Markdown object>"
      ]
     },
     "metadata": {},
     "output_type": "display_data"
    }
   ],
   "source": [
    "# 🎛 Step 3: Interactive UI for input\n",
    "prompt_input = widgets.Textarea(\n",
    "    value='The future of renewable energy',\n",
    "    placeholder='Enter a prompt...',\n",
    "    description='Prompt:',\n",
    "    layout=widgets.Layout(width='100%', height='80px')\n",
    ")\n",
    "\n",
    "model_dropdown = widgets.Dropdown(\n",
    "    options=['gpt2', 'gpt2-medium', 'gpt2-large'],\n",
    "    value='gpt2',\n",
    "    description='Model:'\n",
    ")\n",
    "\n",
    "length_slider = widgets.IntSlider(\n",
    "    value=150,\n",
    "    min=50,\n",
    "    max=300,\n",
    "    step=10,\n",
    "    description='Max Length:'\n",
    ")\n",
    "\n",
    "temperature_slider = widgets.FloatSlider(\n",
    "    value=0.9,\n",
    "    min=0.1,\n",
    "    max=1.5,\n",
    "    step=0.1,\n",
    "    description='Temperature:'\n",
    ")\n",
    "\n",
    "num_outputs_slider = widgets.IntSlider(\n",
    "    value=2,\n",
    "    min=1,\n",
    "    max=5,\n",
    "    step=1,\n",
    "    description='Outputs:'\n",
    ")\n",
    "\n",
    "run_button = widgets.Button(description='🔮 Generate Text', button_style='success')\n",
    "\n",
    "# 📌 Action when button is clicked\n",
    "def on_run_clicked(b):\n",
    "    generate_gpt2_text(\n",
    "        prompt=prompt_input.value,\n",
    "        model=model_dropdown.value,\n",
    "        max_len=length_slider.value,\n",
    "        num_outputs=num_outputs_slider.value,\n",
    "        temperature=temperature_slider.value\n",
    "    )\n",
    "\n",
    "run_button.on_click(on_run_clicked)\n",
    "\n",
    "# 🧩 Display the UI\n",
    "display(prompt_input, model_dropdown, length_slider, temperature_slider, num_outputs_slider, run_button)\n"
   ]
  }
 ],
 "metadata": {
  "kernelspec": {
   "display_name": "Python 3",
   "language": "python",
   "name": "python3"
  },
  "language_info": {
   "codemirror_mode": {
    "name": "ipython",
    "version": 3
   },
   "file_extension": ".py",
   "mimetype": "text/x-python",
   "name": "python",
   "nbconvert_exporter": "python",
   "pygments_lexer": "ipython3",
   "version": "3.13.1"
  }
 },
 "nbformat": 4,
 "nbformat_minor": 5
}
